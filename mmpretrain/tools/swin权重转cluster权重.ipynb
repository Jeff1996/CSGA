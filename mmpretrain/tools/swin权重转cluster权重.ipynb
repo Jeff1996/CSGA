{
 "cells": [
  {
   "cell_type": "code",
   "execution_count": 17,
   "metadata": {},
   "outputs": [
    {
     "name": "stdout",
     "output_type": "stream",
     "text": [
      "torch.Size([7, 3])\n",
      "torch.Size([7, 3, 1, 1])\n",
      "tensor([[[ 0.6684, -0.4807, -0.4296,  0.3449],\n",
      "         [ 0.3263,  0.7188, -0.0091, -0.4603],\n",
      "         [-1.4662,  0.6485,  0.6784, -0.0166],\n",
      "         [-0.3397, -0.0255,  1.0837,  0.5459]],\n",
      "\n",
      "        [[-1.6927, -1.7381, -1.4663,  0.7579],\n",
      "         [-0.6431,  0.1603, -0.3115,  3.2425],\n",
      "         [ 0.1155,  1.2633,  0.0644,  0.2882],\n",
      "         [ 0.7730, -0.4666,  0.6517,  0.4776]]]) tensor([[[ 1.8022, -0.3740,  0.3732,  0.0203],\n",
      "         [-1.8460,  0.7974,  0.1499,  0.7085],\n",
      "         [-0.1511, -0.8546,  0.2014, -0.1625],\n",
      "         [ 0.8767,  0.6290,  1.8556, -0.3418]],\n",
      "\n",
      "        [[-1.4471, -0.4469,  1.1689,  2.1712],\n",
      "         [-0.3812,  0.2507,  1.0345, -1.3663],\n",
      "         [-0.6040,  1.4030,  1.0606,  0.0100],\n",
      "         [ 0.1147, -0.1028, -0.6135,  1.0051]]])\n"
     ]
    }
   ],
   "source": [
    "import torch\n",
    "import torch.nn as nn\n",
    "\n",
    "net1 = nn.Linear(3, 7, bias=False)\n",
    "net2 = nn.Conv2d(3, 7, 1, 1, bias=False)\n",
    "\n",
    "params1 = net1.state_dict()['weight']\n",
    "print(params1.shape)\n",
    "\n",
    "params2 = net2.state_dict()['weight']\n",
    "print(params2.shape)\n",
    "\n",
    "# # data = torch.randn(2, 3, 4, 4).permute(0, 2, 3, 1)\n",
    "data = torch.randn(2, 3, 4, 4)\n",
    "\n",
    "# out = net2(data)\n",
    "# print(out.shape)\n",
    "\n",
    "# print('net1: \\n', net1.weight.shape)\n",
    "# print('net2: \\n', net2.weight.shape)\n",
    "\n",
    "data1, data2, data3 = data[:,0,...], data[:,1,...], data[:,2,...]\n",
    "print(data1, data2)"
   ]
  },
  {
   "cell_type": "code",
   "execution_count": 22,
   "metadata": {},
   "outputs": [
    {
     "name": "stdout",
     "output_type": "stream",
     "text": [
      "Done!\n"
     ]
    }
   ],
   "source": [
    "import torch\n",
    "\n",
    "path_src = '/home/hjf/workspace/mmpretrain/work_dirs/pretrained_in1k/04swin/swin_tiny_224_b16x64_300e_imagenet_20210616_090925-66df6be6.pth'\n",
    "path_out = '/home/hjf/workspace/mmpretrain/work_dirs/pretrained_in1k/08cluster/weights_from_swin-t.pth'\n",
    "\n",
    "params = torch.load(path_src, map_location='cpu')\n",
    "# print(params.keys())\n",
    "\n",
    "if 'state_dict' in params.keys():\n",
    "    params = params['state_dict']\n",
    "\n",
    "params_new = {}\n",
    "for k, v in params.items():\n",
    "    if k.startswith('backbone.norm'):\n",
    "        new_k = k.replace('backbone.norm', 'backbone.norm3')\n",
    "\n",
    "    elif 'attn.w_msa.qkv.weight' in k:\n",
    "        new_k = k.replace('attn.w_msa.qkv.weight', 'token_mixer.qkv.weight')\n",
    "        v = v.unsqueeze(-1).unsqueeze(-1)\n",
    "    elif 'attn.w_msa.qkv.bias' in k:\n",
    "        new_k = k.replace('attn.w_msa.qkv.bias', 'token_mixer.qkv.bias')\n",
    "\n",
    "    elif 'attn.w_msa.proj.weight' in k:\n",
    "        new_k = k.replace('attn.w_msa.proj.weight', 'token_mixer.proj.weight')\n",
    "        v = v.unsqueeze(-1).unsqueeze(-1)\n",
    "    elif 'attn.w_msa.proj.bias' in k:\n",
    "        new_k = k.replace('attn.w_msa.proj.bias', 'token_mixer.proj.bias')\n",
    "\n",
    "    elif 'ffn.layers.0.0.weight' in k:\n",
    "        new_k = k.replace('ffn.layers.0.0.weight', 'mlp.fc1.weight')\n",
    "        v = v.unsqueeze(-1).unsqueeze(-1)\n",
    "    elif 'ffn.layers.0.0.bias' in k:\n",
    "        new_k = k.replace('ffn.layers.0.0.bias', 'mlp.fc1.bias')\n",
    "\n",
    "    elif 'ffn.layers.1.weight' in k:\n",
    "        new_k = k.replace('ffn.layers.1.weight', 'mlp.fc2.weight')\n",
    "        v = v.unsqueeze(-1).unsqueeze(-1)\n",
    "    elif 'ffn.layers.1.bias' in k:\n",
    "        new_k = k.replace('ffn.layers.1.bias', 'mlp.fc2.bias')\n",
    "\n",
    "    else:\n",
    "        new_k = k\n",
    "    params_new[new_k] = v\n",
    "torch.save(params_new, path_out)\n",
    "print('Done!')"
   ]
  }
 ],
 "metadata": {
  "kernelspec": {
   "display_name": "hjf_mmlab",
   "language": "python",
   "name": "python3"
  },
  "language_info": {
   "codemirror_mode": {
    "name": "ipython",
    "version": 3
   },
   "file_extension": ".py",
   "mimetype": "text/x-python",
   "name": "python",
   "nbconvert_exporter": "python",
   "pygments_lexer": "ipython3",
   "version": "3.9.18"
  }
 },
 "nbformat": 4,
 "nbformat_minor": 2
}
