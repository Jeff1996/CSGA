{
 "cells": [
  {
   "cell_type": "code",
   "execution_count": 2,
   "metadata": {},
   "outputs": [
    {
     "name": "stdout",
     "output_type": "stream",
     "text": [
      "Done!\n"
     ]
    }
   ],
   "source": [
    "import torch\n",
    "\n",
    "# # 01vit\n",
    "# path = '/home/hjf/workspace/mmpretrain/work_dirs/pretrained_in1k/01vit/vit-base-p16_pt-32xb128-mae_in1k_20220623-4c544545.pth'\n",
    "# path_keys = '/home/hjf/workspace/mmpretrain/work_dirs/pretrained_in1k/01vit/keys.txt'\n",
    "\n",
    "# # 02setr\n",
    "# # path = '/home/hjf/workspace/mmpretrain/work_dirs/pretrained_in1k/02setr/jx_vit_large_p16_384-b3be5167.pth'\n",
    "# # path_keys = '/home/hjf/workspace/mmpretrain/work_dirs/pretrained_in1k/02setr/keys.txt'\n",
    "# path = '/home/hjf/workspace/mmpretrain/work_dirs/pretrained_in1k/02setr/setr_vit_large_p16_384.pth'\n",
    "# path_keys = '/home/hjf/workspace/mmpretrain/work_dirs/pretrained_in1k/02setr/keys_转换键名后的.txt'\n",
    "\n",
    "# 03 segformer\n",
    "# path = '/home/hjf/workspace/mmpretrain/work_dirs/pretrained_in1k/03segformer/mit_b0.pth'\n",
    "# path_keys = '/home/hjf/workspace/mmpretrain/work_dirs/pretrained_in1k/03segformer/keys_b0.txt'\n",
    "path = '/home/hjf/workspace/mmpretrain/work_dirs/pretrained_in1k/03segformer/mit_b0_mmlab.pth'\n",
    "path_keys = '/home/hjf/workspace/mmpretrain/work_dirs/pretrained_in1k/03segformer/keys_b0_转换键名后的.txt'\n",
    "\n",
    "# 04swin\n",
    "# path = '/home/hjf/workspace/mmpretrain/work_dirs/pretrained_in1k/04swin/swin_tiny_224_b16x64_300e_imagenet_20210616_090925-66df6be6.pth'\n",
    "\n",
    "params = torch.load(path, map_location='cpu')\n",
    "if 'state_dict' in params.keys():\n",
    "    params = params['state_dict']\n",
    "\n",
    "# print(params.keys())\n",
    "keys = list(params.keys())\n",
    "keys.sort()\n",
    "with open(path_keys, 'w', encoding='utf-8') as f:\n",
    "    for key in keys:\n",
    "        f.writelines(key + '\\n')\n",
    "print('Done!')"
   ]
  }
 ],
 "metadata": {
  "kernelspec": {
   "display_name": "hjf_mmlab",
   "language": "python",
   "name": "python3"
  },
  "language_info": {
   "codemirror_mode": {
    "name": "ipython",
    "version": 3
   },
   "file_extension": ".py",
   "mimetype": "text/x-python",
   "name": "python",
   "nbconvert_exporter": "python",
   "pygments_lexer": "ipython3",
   "version": "3.9.18"
  }
 },
 "nbformat": 4,
 "nbformat_minor": 2
}
