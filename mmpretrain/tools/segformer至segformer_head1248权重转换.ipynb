{
 "cells": [
  {
   "cell_type": "code",
   "execution_count": 1,
   "metadata": {},
   "outputs": [
    {
     "name": "stdout",
     "output_type": "stream",
     "text": [
      "Done!\n"
     ]
    }
   ],
   "source": [
    "# 权重参数调整\n",
    "import torch\n",
    "path_src = '/home/hjf/workspace/mmpretrain/work_dirs/pretrained_in1k/03segformer/mit_b0_mmlab.pth'\n",
    "path_out = '/home/hjf/workspace/mmpretrain/work_dirs/pretrained_in1k/03segformer/mit_b0_mmlab_heads_1248.pth'\n",
    "params = torch.load(path_src, map_location='cpu')\n",
    "if 'state_dict' in params.keys():\n",
    "    params = params['state_dict']\n",
    "params_out = {}\n",
    "\n",
    "# 获取尺寸不匹配的参数信息\n",
    "path_logs = '/home/hjf/workspace/mmpretrain/work_dirs/pretrained_in1k/03segformer/debug_loadlog.txt'\n",
    "logs = []\n",
    "with open(path_logs, 'r', encoding='utf-8') as f:\n",
    "    for line in f.readlines():\n",
    "        line = line.strip()\n",
    "        if line.startswith('size mismatch for '):\n",
    "            logs.append(line)\n",
    "# print(logs)\n",
    "params_mismatch = {}\n",
    "for log in logs:\n",
    "    # print(log)\n",
    "    index_start_of_key = len('size mismatch for ')\n",
    "    index_end_of_key = log.find(':')\n",
    "    key = log[index_start_of_key:index_end_of_key]\n",
    "\n",
    "    index_start_shape1 = log.find('shape torch.Size([') + len('shape torch.Size([')\n",
    "    index_end_shape1 = log.find(']) from checkpoint,')\n",
    "    shape1 = log[index_start_shape1:index_end_shape1]\n",
    "    shape1 = shape1.split(', ')\n",
    "    shape1 = [int(x) for x in shape1]\n",
    "    # print(shape1)\n",
    "\n",
    "    index_start_shape2 = log.find('model is torch.Size([') + len('model is torch.Size([')\n",
    "    index_end_shape2 = log.find(']).')\n",
    "    shape2 = log[index_start_shape2:index_end_shape2]\n",
    "    shape2 = shape2.split(', ')\n",
    "    shape2 = [int(x) for x in shape2]\n",
    "    # print(shape2)\n",
    "    params_mismatch[key] = [shape1, shape2]\n",
    "# print(params_mismatch)\n",
    "\n",
    "# 开始修改\n",
    "for key in params.keys():\n",
    "    if key in params_mismatch.keys():\n",
    "        # print(key)\n",
    "        value = params[key]\n",
    "        shape1, shape2 = params_mismatch[key]\n",
    "        if len(shape1) == 1:\n",
    "            value_new = value[:shape2[0]]\n",
    "        elif len(shape1) == 2:\n",
    "            value_new = value[:shape2[0], :shape2[1]]\n",
    "        elif len(shape1) == 3:\n",
    "            value_new = value[:shape2[0], :shape2[1], :shape2[2]]\n",
    "        elif len(shape1) == 4:\n",
    "            value_new = value[:shape2[0], :shape2[1], :shape2[2], :shape2[3]]\n",
    "        else:\n",
    "            value_new = value\n",
    "            print(key)\n",
    "        params_out[key] = value_new\n",
    "    else:\n",
    "        params_out[key] = params[key]\n",
    "torch.save(params_out, path_out)\n",
    "print('Done!')"
   ]
  }
 ],
 "metadata": {
  "kernelspec": {
   "display_name": "hjf_mmlab",
   "language": "python",
   "name": "python3"
  },
  "language_info": {
   "codemirror_mode": {
    "name": "ipython",
    "version": 3
   },
   "file_extension": ".py",
   "mimetype": "text/x-python",
   "name": "python",
   "nbconvert_exporter": "python",
   "pygments_lexer": "ipython3",
   "version": "3.9.18"
  }
 },
 "nbformat": 4,
 "nbformat_minor": 2
}
