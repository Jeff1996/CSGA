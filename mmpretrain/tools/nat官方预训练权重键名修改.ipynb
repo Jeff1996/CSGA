{
 "cells": [
  {
   "cell_type": "code",
   "execution_count": 5,
   "metadata": {},
   "outputs": [
    {
     "name": "stdout",
     "output_type": "stream",
     "text": [
      "Done!\n"
     ]
    }
   ],
   "source": [
    "import torch\n",
    "\n",
    "path_src = '/home/hjf/workspace/mmpretrain/work_dirs/pretrained_in1k/06nat/nat_mini.pth'\n",
    "path_out = '/home/hjf/workspace/mmpretrain/work_dirs/pretrained_in1k/06nat/nat_mini_mmpretrain.pth'\n",
    "\n",
    "params = torch.load(path_src, map_location='cpu')\n",
    "if 'state_dict' in params.keys():\n",
    "    params = params['state_dict']\n",
    "\n",
    "params_new = {}\n",
    "for k, v in params.items():\n",
    "    if k.startswith('head'):\n",
    "        new_k = k.replace('head', 'head.fc')\n",
    "    elif k.startswith('norm'):\n",
    "        new_k = k.replace('norm', 'backbone.norm3')\n",
    "    else:\n",
    "        new_k = 'backbone.' + k\n",
    "    params_new[new_k] = v\n",
    "torch.save(params_new, path_out)\n",
    "print('Done!')"
   ]
  }
 ],
 "metadata": {
  "kernelspec": {
   "display_name": "hjf_mmlab",
   "language": "python",
   "name": "python3"
  },
  "language_info": {
   "codemirror_mode": {
    "name": "ipython",
    "version": 3
   },
   "file_extension": ".py",
   "mimetype": "text/x-python",
   "name": "python",
   "nbconvert_exporter": "python",
   "pygments_lexer": "ipython3",
   "version": "3.9.18"
  }
 },
 "nbformat": 4,
 "nbformat_minor": 2
}
