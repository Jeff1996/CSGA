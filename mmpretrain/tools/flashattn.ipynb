{
 "cells": [
  {
   "cell_type": "code",
   "execution_count": 2,
   "metadata": {},
   "outputs": [
    {
     "name": "stdout",
     "output_type": "stream",
     "text": [
      "torch.Size([8, 3, 32])\n"
     ]
    },
    {
     "ename": "",
     "evalue": "",
     "output_type": "error",
     "traceback": [
      "\u001b[1;31mThe Kernel crashed while executing code in the the current cell or a previous cell. Please review the code in the cell(s) to identify a possible cause of the failure. Click <a href='https://aka.ms/vscodeJupyterKernelCrash'>here</a> for more info. View Jupyter <a href='command:jupyter.viewOutput'>log</a> for further details."
     ]
    }
   ],
   "source": [
    "import torch\n",
    "from flash_attn.flash_attn_interface import flash_attn_func, flash_attn_unpadded_func\n",
    "\n",
    "B = 1\n",
    "L_q = 8\n",
    "L_kv = 4\n",
    "heads = 3\n",
    "dim = 32\n",
    "\n",
    "q = torch.randn((B*L_q, heads, dim), dtype=torch.half).cuda()\n",
    "k = torch.randn((B*L_kv, heads, dim), dtype=torch.half).cuda()\n",
    "v = torch.randn((B*L_kv, heads, dim), dtype=torch.half).cuda()\n",
    "\n",
    "# print(q, k, v)\n",
    "cu_seqlens_q = torch.arange(0, (B + 1) * L_q, step=L_q, dtype=torch.int32, device=q.device)\n",
    "cu_seqlens_kv = torch.arange(0, (B + 1) * L_kv, step=L_kv, dtype=torch.int32, device=q.device)\n",
    "# print(cu_seqlens_q)\n",
    "x = flash_attn_unpadded_func(q, k, v, cu_seqlens_q=cu_seqlens_q, cu_seqlens_k=cu_seqlens_kv, max_seqlen_q=L_q, max_seqlen_k=L_kv, dropout_p=0.0, softmax_scale=1.0)\n",
    "print(x.shape)\n",
    "\n",
    "exit(0)"
   ]
  }
 ],
 "metadata": {
  "kernelspec": {
   "display_name": "hjf_mmlab",
   "language": "python",
   "name": "python3"
  },
  "language_info": {
   "codemirror_mode": {
    "name": "ipython",
    "version": 3
   },
   "file_extension": ".py",
   "mimetype": "text/x-python",
   "name": "python",
   "nbconvert_exporter": "python",
   "pygments_lexer": "ipython3",
   "version": "3.9.18"
  }
 },
 "nbformat": 4,
 "nbformat_minor": 2
}
