{
 "cells": [
  {
   "cell_type": "code",
   "execution_count": 3,
   "metadata": {},
   "outputs": [
    {
     "name": "stdout",
     "output_type": "stream",
     "text": [
      "Done!\n"
     ]
    }
   ],
   "source": [
    "'''\n",
    "twins网络在mmpretrain和mmsegmentation中的键名有一些差异，需要转换一下\n",
    "'''\n",
    "\n",
    "import torch\n",
    "import torch.nn.functional as F\n",
    "\n",
    "size_src = (224, 224)\n",
    "# size_out = (512, 512)\n",
    "size_out = (768, 768)\n",
    "\n",
    "path_src = '/home/hjf/workspace/mmsegmentation/work_dirs/pretrained_in1k/07twins/epoch_50.pth'\n",
    "path_out = '/home/hjf/workspace/mmsegmentation/work_dirs/pretrained_in1k/07twins/epoch_50_seg.pth'\n",
    "\n",
    "params = torch.load(path_src, map_location='cpu')['state_dict']\n",
    "# print(params.keys())\n",
    "\n",
    "params_new = {}\n",
    "for k, v in params.items():\n",
    "    if 'norm_after_stage3' in k:\n",
    "        new_k = k.replace('norm_after_stage3', 'norm_list.3')\n",
    "    else:\n",
    "        new_k = k\n",
    "    params_new[new_k] = v\n",
    "torch.save(params_new, path_out)\n",
    "print('Done!')\n"
   ]
  }
 ],
 "metadata": {
  "kernelspec": {
   "display_name": "hjf_mmlab",
   "language": "python",
   "name": "python3"
  },
  "language_info": {
   "codemirror_mode": {
    "name": "ipython",
    "version": 3
   },
   "file_extension": ".py",
   "mimetype": "text/x-python",
   "name": "python",
   "nbconvert_exporter": "python",
   "pygments_lexer": "ipython3",
   "version": "3.9.18"
  }
 },
 "nbformat": 4,
 "nbformat_minor": 2
}
