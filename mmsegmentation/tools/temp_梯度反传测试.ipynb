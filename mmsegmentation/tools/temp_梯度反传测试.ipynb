{
 "cells": [
  {
   "cell_type": "code",
   "execution_count": 11,
   "metadata": {},
   "outputs": [],
   "source": [
    "# 向量量化过程得梯度反传\n",
    "import torch\n",
    "import torch.nn.functional as F\n",
    "import torch.nn as nn"
   ]
  },
  {
   "cell_type": "code",
   "execution_count": 65,
   "metadata": {},
   "outputs": [
    {
     "name": "stdout",
     "output_type": "stream",
     "text": [
      "tensor([[1., 1., 1.],\n",
      "        [1., 1., 1.]])\n",
      "tensor([[0.5000, 0.5000, 0.5000],\n",
      "        [0.5000, 0.5000, 0.5000],\n",
      "        [0.5000, 0.5000, 0.5000],\n",
      "        [0.5000, 0.5000, 0.5000]])\n"
     ]
    }
   ],
   "source": [
    "x = torch.randn((4,3), requires_grad=True)\n",
    "# print(x.sum()/2)\n",
    "\n",
    "# # 使用索引划分聚类\n",
    "# delta_onehot = torch.tensor(\n",
    "#     [\n",
    "#         [1, 1, 0, 0], \n",
    "#         [0, 0, 1, 1]\n",
    "#     ],\n",
    "#     dtype=torch.float32,\n",
    "#     requires_grad=True\n",
    "# )\n",
    "# center = torch.einsum('cl,ld->cd', delta_onehot, x)\n",
    "# center = center / delta_onehot.sum(dim=-1, keepdim=True)\n",
    "# # center = center / delta_onehot.sum(dim=-1).unsqueeze(-1)\n",
    "# # center = center / torch.tensor([2, 2]).unsqueeze(-1)\n",
    "# loss = center.sum()\n",
    "# # print(loss)\n",
    "# center.retain_grad()\n",
    "# loss.backward()\n",
    "# print(center.grad)\n",
    "# print(x.grad)\n",
    "\n",
    "# delta_onehot_nograd = torch.tensor(\n",
    "#     [\n",
    "#         [1, 1, 0, 0], \n",
    "#         [0, 0, 1, 1]\n",
    "#     ],\n",
    "#     dtype=torch.float32,\n",
    "#     requires_grad=False\n",
    "# )\n",
    "# center_nograd = torch.einsum('cl,ld->cd', delta_onehot_nograd, x)\n",
    "# center_nograd = center_nograd / delta_onehot_nograd.sum(dim=-1, keepdim=True)\n",
    "# loss_nograd = center_nograd.sum()\n",
    "# # print(loss_nograd)\n",
    "# loss_nograd.backward()\n",
    "# print(x.grad)\n",
    "\n",
    "# 使用池化聚类\n",
    "# print(x)\n",
    "y = x.permute(1, 0)\n",
    "net = nn.AvgPool1d(2, 2)\n",
    "center = net(y).permute(1, 0)\n",
    "# print(center)\n",
    "center.retain_grad()\n",
    "loss = center.sum()\n",
    "loss.backward()\n",
    "print(center.grad)\n",
    "print(x.grad)"
   ]
  },
  {
   "cell_type": "code",
   "execution_count": 85,
   "metadata": {},
   "outputs": [
    {
     "name": "stdout",
     "output_type": "stream",
     "text": [
      "tensor([0.1749, 0.1749, 0.4754, 0.1749])\n"
     ]
    }
   ],
   "source": [
    "a = torch.tensor([0.9, 0.9, 1, 1], dtype=torch.float32) * 10\n",
    "print(a.softmax(dim=0))"
   ]
  }
 ],
 "metadata": {
  "kernelspec": {
   "display_name": "hjf_mmlab",
   "language": "python",
   "name": "python3"
  },
  "language_info": {
   "codemirror_mode": {
    "name": "ipython",
    "version": 3
   },
   "file_extension": ".py",
   "mimetype": "text/x-python",
   "name": "python",
   "nbconvert_exporter": "python",
   "pygments_lexer": "ipython3",
   "version": "3.9.18"
  }
 },
 "nbformat": 4,
 "nbformat_minor": 2
}
