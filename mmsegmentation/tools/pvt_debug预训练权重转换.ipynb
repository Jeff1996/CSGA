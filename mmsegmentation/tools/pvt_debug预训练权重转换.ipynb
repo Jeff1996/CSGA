{
 "cells": [
  {
   "cell_type": "code",
   "execution_count": 2,
   "metadata": {},
   "outputs": [
    {
     "name": "stdout",
     "output_type": "stream",
     "text": [
      "shape of pos_embed_new:  torch.Size([1, 36864, 64])\n",
      "shape of pos_embed_new:  torch.Size([1, 9216, 128])\n",
      "shape of pos_embed_new:  torch.Size([1, 2304, 256])\n",
      "shape of pos_embed_new:  torch.Size([1, 577, 512])\n",
      "Done!\n"
     ]
    }
   ],
   "source": [
    "'''\n",
    "因为pvt_debug网络在ImageNet-1K上预训练的图片尺寸为224*224\n",
    "在应用到ade20k数据集上进行分割任务时，图片尺寸变为了512*512，此时不能以224*224为基准构造位置编码，否则差别太大，网络性能下降严重\n",
    "在应用到cityscapes数据集上进行分割任务时，图片尺寸变为了768*768，此时不能以224*224为基准构造位置编码，否则差别太大，网络性能下降严重\n",
    "'''\n",
    "\n",
    "import torch\n",
    "import torch.nn.functional as F\n",
    "\n",
    "size_src = (224, 224)\n",
    "# size_out = (512, 512)\n",
    "size_out = (768, 768)\n",
    "\n",
    "path_src = '/home/hjf/workspace/mmsegmentation/work_dirs/pretrained_in1k/05pvt_debug/epoch_50.pth'\n",
    "path_out = '/home/hjf/workspace/mmsegmentation/work_dirs/pretrained_in1k/05pvt_debug/epoch_50_img_size_{}x{}.pth'.format(*size_out)\n",
    "\n",
    "params = torch.load(path_src, map_location='cpu')['state_dict']\n",
    "# print(params.keys())\n",
    "\n",
    "for k in params.keys():\n",
    "    if 'pos_embed' in k:\n",
    "        index = int(k[-1])\n",
    "        pos_embed = params[k]\n",
    "        # print(k, pos_embed.shape)\n",
    "        H_old = size_src[0] // 2**(1+index)\n",
    "        W_old = size_src[1] // 2**(1+index)\n",
    "        H_new = size_out[0] // 2**(1+index)\n",
    "        W_new = size_out[1] // 2**(1+index)\n",
    "\n",
    "        # print(H_old, W_old, H_new, W_new)\n",
    "\n",
    "        if not index == 4:\n",
    "            pos_embed_new = F.interpolate(\n",
    "                pos_embed.reshape(1, H_old, W_old, -1).permute(0, 3, 1, 2), \n",
    "                size=(H_new, W_new), \n",
    "                mode=\"bilinear\"\n",
    "            ).reshape(1, -1, H_new * W_new).permute(0, 2, 1)\n",
    "        else:\n",
    "            pos_embed_new = F.interpolate(\n",
    "                pos_embed[:, 1:].reshape(1, H_old, W_old, -1).permute(0, 3, 1, 2), \n",
    "                size=(H_new, W_new), \n",
    "                mode=\"bilinear\"\n",
    "            ).reshape(1, -1, H_new * W_new).permute(0, 2, 1)\n",
    "            pos_embed_new = torch.concatenate((pos_embed[:, :1], pos_embed_new), dim=1)\n",
    "\n",
    "        print('shape of pos_embed_new: ', pos_embed_new.shape)\n",
    "        params[k] = pos_embed_new\n",
    "    else:\n",
    "        continue\n",
    "\n",
    "torch.save({'state_dict': params}, path_out)\n",
    "print('Done!')\n"
   ]
  }
 ],
 "metadata": {
  "kernelspec": {
   "display_name": "hjf_mmlab",
   "language": "python",
   "name": "python3"
  },
  "language_info": {
   "codemirror_mode": {
    "name": "ipython",
    "version": 3
   },
   "file_extension": ".py",
   "mimetype": "text/x-python",
   "name": "python",
   "nbconvert_exporter": "python",
   "pygments_lexer": "ipython3",
   "version": "3.9.18"
  }
 },
 "nbformat": 4,
 "nbformat_minor": 2
}
