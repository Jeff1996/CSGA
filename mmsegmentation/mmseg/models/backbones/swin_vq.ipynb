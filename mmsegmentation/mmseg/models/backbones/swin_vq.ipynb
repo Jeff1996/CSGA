{
 "cells": [
  {
   "cell_type": "code",
   "execution_count": 2,
   "metadata": {},
   "outputs": [
    {
     "name": "stdout",
     "output_type": "stream",
     "text": [
      "[ERROR] 参数 'extr.weight' 需要梯度（requires_grad=True），但未收到梯度！\n",
      "[ERROR] 参数 'extr.bias' 需要梯度（requires_grad=True），但未收到梯度！\n"
     ]
    }
   ],
   "source": [
    "'''\n",
    "梯度反传规律研究\n",
    "'''\n",
    "import torch\n",
    "import torch.nn as nn\n",
    "from torch.optim import Adam, SGD, RMSprop, AdamW\n",
    "import torch.nn.functional as F\n",
    "\n",
    "def check_missing_gradients(model):\n",
    "    for name, param in model.named_parameters():\n",
    "        if param.requires_grad and param.grad is None:\n",
    "            print(f\"[ERROR] 参数 '{name}' 需要梯度（requires_grad=True），但未收到梯度！\")\n",
    "        elif param.requires_grad and torch.all(param.grad == 0):\n",
    "            print(f\"[WARNING] 参数 '{name}' 需要梯度，但梯度全零（可能未被正确更新）\")\n",
    "\n",
    "class testNet(nn.Module):\n",
    "    def __init__(self, dim_in: int=10, dim_out: int=4, **kwargs) -> None:\n",
    "        super().__init__(**kwargs)\n",
    "\n",
    "        self.net = nn.Sequential(\n",
    "            nn.Linear(dim_in, dim_in),\n",
    "            nn.LayerNorm(dim_in),\n",
    "            nn.ReLU(),\n",
    "            nn.Linear(dim_in, dim_out),\n",
    "        )\n",
    "\n",
    "        self.extr = nn.Linear(dim_in, dim_out)\n",
    "\n",
    "        # 优化器\n",
    "        self.optimizer = Adam(                              # 网络参数优化器\n",
    "            self.parameters(),\n",
    "            lr = 1e-3,\n",
    "            betas=(0.9, 0.999),\n",
    "            weight_decay = 1e-6,\n",
    "        )\n",
    "\n",
    "    def loss(self, results, labels):\n",
    "        '''\n",
    "        results: tensor, [B, dim_out]\n",
    "        labels: tensor, [B, ]\n",
    "        '''\n",
    "        loss = F.cross_entropy(results, labels)\n",
    "        return loss\n",
    "\n",
    "\n",
    "    def forward(self, x):\n",
    "        out = self.net(x)\n",
    "        return out\n",
    "\n",
    "batch_size = 3\n",
    "dim_in = 10\n",
    "dim_out = 4\n",
    "\n",
    "datas = torch.randn((batch_size, dim_in))\n",
    "labels = torch.randint(0, dim_out, (batch_size, ))\n",
    "\n",
    "net = testNet(dim_in, dim_out)\n",
    "\n",
    "results = net(datas)\n",
    "loss = net.loss(results, labels)\n",
    "net.optimizer.zero_grad()\n",
    "loss.backward()\n",
    "check_missing_gradients(net)\n",
    "net.optimizer.step()"
   ]
  }
 ],
 "metadata": {
  "kernelspec": {
   "display_name": "hjf_mmlab",
   "language": "python",
   "name": "python3"
  },
  "language_info": {
   "codemirror_mode": {
    "name": "ipython",
    "version": 3
   },
   "file_extension": ".py",
   "mimetype": "text/x-python",
   "name": "python",
   "nbconvert_exporter": "python",
   "pygments_lexer": "ipython3",
   "version": "3.9.0"
  }
 },
 "nbformat": 4,
 "nbformat_minor": 2
}
